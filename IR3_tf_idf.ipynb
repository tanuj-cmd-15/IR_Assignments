{
  "nbformat": 4,
  "nbformat_minor": 0,
  "metadata": {
    "colab": {
      "provenance": [],
      "authorship_tag": "ABX9TyPlk/f3C9ItexV6yFuEjTUf",
      "include_colab_link": true
    },
    "kernelspec": {
      "name": "python3",
      "display_name": "Python 3"
    },
    "language_info": {
      "name": "python"
    }
  },
  "cells": [
    {
      "cell_type": "markdown",
      "metadata": {
        "id": "view-in-github",
        "colab_type": "text"
      },
      "source": [
        "<a href=\"https://colab.research.google.com/github/tanuj-cmd-15/IR_Assignments/blob/master/IR3_tf_idf.ipynb\" target=\"_parent\"><img src=\"https://colab.research.google.com/assets/colab-badge.svg\" alt=\"Open In Colab\"/></a>"
      ]
    },
    {
      "cell_type": "markdown",
      "source": [
        "**tf-idf Algorithm**"
      ],
      "metadata": {
        "id": "sYbX3AvckX6G"
      }
    },
    {
      "cell_type": "markdown",
      "source": [
        "**code:**"
      ],
      "metadata": {
        "id": "698LULCHkeil"
      }
    },
    {
      "cell_type": "code",
      "source": [
        "import math\n",
        "\n",
        "def calculate_idf(N, df):\n",
        "    return math.log10(N / df)\n",
        "\n",
        "def calculate_idfa(tf):\n",
        "    return 1 + math.log10(tf) if tf > 0 else 1\n",
        "\n",
        "\n",
        "def calculate_tf_idf(tf, idf):\n",
        "    return tf * idf\n",
        "\n",
        "\n",
        "def calculate_norm(weights):\n",
        "    return math.sqrt(sum([w**2 for w in weights]))\n",
        "\n",
        "print(\"\\033[1mOutput :\\033[0m\")\n",
        "\n",
        "# Function to compute cosine similarity\n",
        "def cosine_similarity(query, document, N, df_query):\n",
        "    # Step 1: Calculate IDF for each term\n",
        "    idf_query = {term: calculate_idf(N, df_query.get(term, 1)) for term in query}\n",
        "    idf_document = {term: calculate_idfa(document.get(term, 0)) for term in document}\n",
        "    # print(f\"idf_query: {idf_query}\")\n",
        "    # print(f\"idf_document: {idf_document}\")\n",
        "\n",
        "    # Step 2: Calculate TF-IDF for the query and document\n",
        "    tf_idf_query = {term: calculate_tf_idf(query[term], idf_query[term]) for term in query}\n",
        "    # print(f\"tf_idf_query: {tf_idf_query}\")\n",
        "\n",
        "    # Step 3: Normalize the TF-IDF values (Euclidean normalization)\n",
        "    norm_query = calculate_norm(list(tf_idf_query.values()))\n",
        "    norm_document = calculate_norm(list(idf_document.values()))\n",
        "    # print(f\"norm_query: {norm_query}\")\n",
        "    # print(f\"norm_document: {norm_document}\")\n",
        "\n",
        "    normalized_query = {term: tf_idf_query[term] / norm_query for term in tf_idf_query}\n",
        "    normalized_document = {term: idf_document[term] / norm_document for term in idf_document}\n",
        "    # print(f\"normalized_query: {normalized_query}\")\n",
        "    # print(f\"normalized_document: {normalized_document}\")\n",
        "\n",
        "\n",
        "    similarity = sum([normalized_query.get(term, 0) * normalized_document.get(term, 0) for term in set(query).union(document)])\n",
        "\n",
        "    return similarity\n",
        "\n",
        "query = {'digital': 1, 'cameras': 1, 'video': 0}\n",
        "\n",
        "df_query = {'digital': 10000, 'cameras': 50000, 'video': 100000}\n",
        "\n",
        "N = 10000000\n",
        "\n",
        "documents = [\n",
        "    {'digital': 2, 'cameras': 3, 'video': 1},\n",
        "    {'digital': 1, 'cameras': 2, 'video': 1},\n",
        "    {'digital': 1, 'cameras': 1, 'video': 0},\n",
        "    {'digital': 0, 'cameras': 2, 'video': 2},\n",
        "    {'digital': 3, 'cameras': 0, 'video': 1},\n",
        "]\n",
        "\n",
        "# Compute cosine similarity for each document with the query\n",
        "for i, document in enumerate(documents, start=1):\n",
        "    print(f\"\\033[1mDocument {i}:\\033[0m\")\n",
        "    similarity_score = cosine_similarity(query, document, N, df_query)\n",
        "    print(f\"Cosine Similarity between the query and Document {i}: {similarity_score}\")\n",
        "    print(\"-\" * 50)\n"
      ],
      "metadata": {
        "colab": {
          "base_uri": "https://localhost:8080/"
        },
        "id": "WoSLqo_eOS2D",
        "outputId": "3bd9b28c-4920-497e-f6ed-cb238a611ff3"
      },
      "execution_count": 40,
      "outputs": [
        {
          "output_type": "stream",
          "name": "stdout",
          "text": [
            "\u001b[1mOutput :\u001b[0m\n",
            "\u001b[1mDocument 1:\u001b[0m\n",
            "Cosine Similarity between the query and Document 1: 0.8747524094429597\n",
            "--------------------------------------------------\n",
            "\u001b[1mDocument 2:\u001b[0m\n",
            "Cosine Similarity between the query and Document 2: 0.8249673488260982\n",
            "--------------------------------------------------\n",
            "\u001b[1mDocument 3:\u001b[0m\n",
            "Cosine Similarity between the query and Document 3: 0.8094900568444885\n",
            "--------------------------------------------------\n",
            "\u001b[1mDocument 4:\u001b[0m\n",
            "Cosine Similarity between the query and Document 4: 0.7570159149993955\n",
            "--------------------------------------------------\n",
            "\u001b[1mDocument 5:\u001b[0m\n",
            "Cosine Similarity between the query and Document 5: 0.8707535142322953\n",
            "--------------------------------------------------\n"
          ]
        }
      ]
    }
  ]
}