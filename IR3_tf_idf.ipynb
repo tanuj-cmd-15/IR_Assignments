{
  "nbformat": 4,
  "nbformat_minor": 0,
  "metadata": {
    "colab": {
      "provenance": [],
      "authorship_tag": "ABX9TyPcYl7/AxT6O3sfHee3CpYz",
      "include_colab_link": true
    },
    "kernelspec": {
      "name": "python3",
      "display_name": "Python 3"
    },
    "language_info": {
      "name": "python"
    }
  },
  "cells": [
    {
      "cell_type": "markdown",
      "metadata": {
        "id": "view-in-github",
        "colab_type": "text"
      },
      "source": [
        "<a href=\"https://colab.research.google.com/github/tanuj-cmd-15/IR_Assignments/blob/master/IR3_tf_idf.ipynb\" target=\"_parent\"><img src=\"https://colab.research.google.com/assets/colab-badge.svg\" alt=\"Open In Colab\"/></a>"
      ]
    },
    {
      "cell_type": "markdown",
      "source": [
        "**tf-idf Algorithm**"
      ],
      "metadata": {
        "id": "sYbX3AvckX6G"
      }
    },
    {
      "cell_type": "markdown",
      "source": [
        "**code:**"
      ],
      "metadata": {
        "id": "698LULCHkeil"
      }
    },
    {
      "cell_type": "code",
      "source": [
        "import math\n",
        "\n",
        "# Function to calculate IDF for a term\n",
        "def calculate_idf(N, df):\n",
        "    return math.log10(N / df)\n",
        "\n",
        "def calculate_idfa(tf):\n",
        "    return 1 + math.log10(tf) if tf > 0 else 1\n",
        "\n",
        "\n",
        "def calculate_tf_idf(tf, idf):                  # Function to calculate the TF-IDF weight for a term in a document or query\n",
        "    return tf * idf\n",
        "\n",
        "def calculate_norm(weights):                    # Function to calculate Euclidean norm for normalization\n",
        "    return math.sqrt(sum([w**2 for w in weights]))\n",
        "\n",
        "print(\"\\033[1mOutput :\\033[0m\")\n",
        "\n",
        "def cosine_similarity(query, document, N, df_query,):\n",
        "    # Step 1: Calculate IDF for each term\n",
        "    idf_query = {term: calculate_idf(N, df_query[term]) for term in query}\n",
        "    idf_document = {term: calculate_idfa(document[term]) for term in document}\n",
        "    print(f\"idf_query: {idf_query}\")\n",
        "    print(f\"idf_document: {idf_document}\")\n",
        "    print()\n",
        "\n",
        "    # Step 2: Calculate TF-IDF for the query and document\n",
        "    tf_idf_query = {term: calculate_tf_idf(query[term], idf_query[term]) for term in query}\n",
        "    # tf_idf_document = {term: calculate_tf_idf(document[term], idf_document[term]) for term in document}\n",
        "    print(f\"tf_idf_query: {tf_idf_query}\")\n",
        "    # print(f\"tf_idf_document: {tf_idf_document}\")\n",
        "    print()\n",
        "\n",
        "\n",
        "     # Step 3: Normalize the TF-IDF values (Euclidean normalization)\n",
        "    norm_query = calculate_norm(list(tf_idf_query.values()))\n",
        "    norm_document = calculate_norm(list(idf_document.values()))\n",
        "    print(f\"norm_query: {norm_query}\")\n",
        "    print(f\"norm_document: {norm_document}\")\n",
        "    print()\n",
        "\n",
        "    normalized_query = {term: tf_idf_query[term] / norm_query for term in tf_idf_query}\n",
        "    normalized_document = {term: idf_document[term] / norm_document for term in idf_document}\n",
        "    print(f\"normalized_query: {normalized_query}\")\n",
        "    print(f\"normalized_document: {normalized_document}\")\n",
        "    print()\n",
        "\n",
        "    similarity = sum([normalized_query.get(term, 0) * normalized_document.get(term, 0) for term in set(query).union(document)])\n",
        "\n",
        "    return similarity\n",
        "\n",
        "\n",
        "\n",
        "# Sample data\n",
        "query = {'digital': 1, 'cameras': 1, 'video': 0}\n",
        "document = {'digital': 1, 'cameras': 2, 'video': 1}\n",
        "\n",
        "# Document Frequencies (df) for the terms\n",
        "df_query = {'digital': 10000, 'cameras': 50000, 'video': 100000}\n",
        "\n",
        "N = 10000000\n",
        "\n",
        "similarity_score = cosine_similarity(query, document, N, df_query)\n",
        "\n",
        "\n",
        "print(f\"Cosine Similarity between the query and document: {similarity_score}\")\n"
      ],
      "metadata": {
        "colab": {
          "base_uri": "https://localhost:8080/"
        },
        "id": "-jL4hSCM45Rd",
        "outputId": "3099de6e-cbe0-4d86-d07f-cf168bedb3a7"
      },
      "execution_count": 36,
      "outputs": [
        {
          "output_type": "stream",
          "name": "stdout",
          "text": [
            "\u001b[1mOutput :\u001b[0m\n",
            "idf_query: {'digital': 3.0, 'cameras': 2.3010299956639813, 'video': 2.0}\n",
            "idf_document: {'digital': 1.0, 'cameras': 1.3010299956639813, 'video': 1.0}\n",
            "\n",
            "tf_idf_query: {'digital': 3.0, 'cameras': 2.3010299956639813, 'video': 0.0}\n",
            "\n",
            "norm_query: 3.780838404500433\n",
            "norm_document: 1.9216344734671627\n",
            "\n",
            "normalized_query: {'digital': 0.7934748008349206, 'cameras': 0.608603105841552, 'video': 0.0}\n",
            "normalized_document: {'digital': 0.5203903311516482, 'cameras': 0.6770434302818067, 'video': 0.5203903311516482}\n",
            "\n",
            "Cosine Similarity between the query and document: 0.8249673488260982\n"
          ]
        }
      ]
    }
  ]
}