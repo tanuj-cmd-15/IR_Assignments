{
  "cells": [
    {
      "cell_type": "markdown",
      "source": [
        "***IR (ASSIGNMENT-1)***"
      ],
      "metadata": {
        "id": "BjhOLJrrw4eB"
      }
    },
    {
      "cell_type": "code",
      "source": [
        "pip install nltk"
      ],
      "metadata": {
        "colab": {
          "base_uri": "https://localhost:8080/"
        },
        "id": "_LaoVvd7w6vB",
        "outputId": "3280bfc3-1302-40ca-e2d8-ef3ad518397b"
      },
      "execution_count": null,
      "outputs": [
        {
          "output_type": "stream",
          "name": "stdout",
          "text": [
            "Requirement already satisfied: nltk in /usr/local/lib/python3.10/dist-packages (3.8.1)\n",
            "Requirement already satisfied: click in /usr/local/lib/python3.10/dist-packages (from nltk) (8.1.7)\n",
            "Requirement already satisfied: joblib in /usr/local/lib/python3.10/dist-packages (from nltk) (1.4.2)\n",
            "Requirement already satisfied: regex>=2021.8.3 in /usr/local/lib/python3.10/dist-packages (from nltk) (2024.5.15)\n",
            "Requirement already satisfied: tqdm in /usr/local/lib/python3.10/dist-packages (from nltk) (4.66.5)\n"
          ]
        }
      ]
    },
    {
      "cell_type": "code",
      "source": [
        "import nltk\n",
        "import re\n",
        "from nltk.corpus import stopwords\n",
        "from nltk.tokenize import word_tokenize\n",
        "\n",
        "nltk.download('punkt')\n",
        "nltk.download('stopwords')"
      ],
      "metadata": {
        "colab": {
          "base_uri": "https://localhost:8080/"
        },
        "id": "Hmb0k7AVwSjZ",
        "outputId": "77dfe62b-e739-4934-fbce-3f8fc16927c3"
      },
      "execution_count": null,
      "outputs": [
        {
          "output_type": "stream",
          "name": "stderr",
          "text": [
            "[nltk_data] Downloading package punkt to /root/nltk_data...\n",
            "[nltk_data]   Package punkt is already up-to-date!\n",
            "[nltk_data] Downloading package stopwords to /root/nltk_data...\n",
            "[nltk_data]   Package stopwords is already up-to-date!\n"
          ]
        },
        {
          "output_type": "execute_result",
          "data": {
            "text/plain": [
              "True"
            ]
          },
          "metadata": {},
          "execution_count": 11
        }
      ]
    },
    {
      "cell_type": "code",
      "source": [
        "text = (\"Artificial intelligence (AI) has rapidly evolved in recent years, impacting various sectors, \"\n",
        "        \"including healthcare, finance, and transportation. Advanced machine learning algorithms are \"\n",
        "        \"now capable of processing vast amounts of data, leading to more accurate predictions and efficient \"\n",
        "        \"decision-making. However, this rapid growth has also raised concerns about privacy, security, and the \"\n",
        "        \"ethical implications of AI.\")"
      ],
      "metadata": {
        "id": "K015klhHwYOB"
      },
      "execution_count": null,
      "outputs": []
    },
    {
      "cell_type": "markdown",
      "source": [
        "**Normalize the text**"
      ],
      "metadata": {
        "id": "m694xvcExH-p"
      }
    },
    {
      "cell_type": "code",
      "source": [
        "text = text.lower()  # Convert to lowercase\n",
        "text = re.sub(r'[^a-z0-9\\s]', '', text)  # Remove punctuation\n",
        "print(\"Normalized Text:\", text)\n"
      ],
      "metadata": {
        "colab": {
          "base_uri": "https://localhost:8080/"
        },
        "id": "c_FB1843whTp",
        "outputId": "b77e60e4-c3e3-4a80-b8b6-d2f96312a327"
      },
      "execution_count": null,
      "outputs": [
        {
          "output_type": "stream",
          "name": "stdout",
          "text": [
            "Normalized Text: artificial intelligence ai has rapidly evolved in recent years impacting various sectors including healthcare finance and transportation advanced machine learning algorithms are now capable of processing vast amounts of data leading to more accurate predictions and efficient decisionmaking however this rapid growth has also raised concerns about privacy security and the ethical implications of ai\n"
          ]
        }
      ]
    },
    {
      "cell_type": "markdown",
      "source": [
        "**Tokenize the text**"
      ],
      "metadata": {
        "id": "_30X8YYMxN95"
      }
    },
    {
      "cell_type": "code",
      "source": [
        "tokens = word_tokenize(text)\n",
        "print(\"Tokens:\", tokens)"
      ],
      "metadata": {
        "colab": {
          "base_uri": "https://localhost:8080/"
        },
        "id": "pVwY1_bnwh8a",
        "outputId": "8a89bc5c-bfb7-4dd3-fb23-b3344caf6163"
      },
      "execution_count": null,
      "outputs": [
        {
          "output_type": "stream",
          "name": "stdout",
          "text": [
            "Tokens: ['artificial', 'intelligence', 'ai', 'has', 'rapidly', 'evolved', 'in', 'recent', 'years', 'impacting', 'various', 'sectors', 'including', 'healthcare', 'finance', 'and', 'transportation', 'advanced', 'machine', 'learning', 'algorithms', 'are', 'now', 'capable', 'of', 'processing', 'vast', 'amounts', 'of', 'data', 'leading', 'to', 'more', 'accurate', 'predictions', 'and', 'efficient', 'decisionmaking', 'however', 'this', 'rapid', 'growth', 'has', 'also', 'raised', 'concerns', 'about', 'privacy', 'security', 'and', 'the', 'ethical', 'implications', 'of', 'ai']\n"
          ]
        }
      ]
    },
    {
      "cell_type": "markdown",
      "source": [
        "**Remove stopwords**"
      ],
      "metadata": {
        "id": "DiAF89I0xSvR"
      }
    },
    {
      "cell_type": "code",
      "source": [
        "stop_words = set(stopwords.words('english'))\n",
        "filtered_tokens = [word for word in tokens if word not in stop_words]\n",
        "print(\"Filtered Tokens:\", filtered_tokens)\n"
      ],
      "metadata": {
        "colab": {
          "base_uri": "https://localhost:8080/"
        },
        "id": "WUmOZ_OPwmrp",
        "outputId": "82c997b3-7432-4d5d-faa8-55a1bc438717"
      },
      "execution_count": null,
      "outputs": [
        {
          "output_type": "stream",
          "name": "stdout",
          "text": [
            "Filtered Tokens: ['artificial', 'intelligence', 'ai', 'rapidly', 'evolved', 'recent', 'years', 'impacting', 'various', 'sectors', 'including', 'healthcare', 'finance', 'transportation', 'advanced', 'machine', 'learning', 'algorithms', 'capable', 'processing', 'vast', 'amounts', 'data', 'leading', 'accurate', 'predictions', 'efficient', 'decisionmaking', 'however', 'rapid', 'growth', 'also', 'raised', 'concerns', 'privacy', 'security', 'ethical', 'implications', 'ai']\n"
          ]
        }
      ]
    },
    {
      "cell_type": "markdown",
      "source": [
        "**Stemming by using PorterStemmer**"
      ],
      "metadata": {
        "id": "pYjAY0RuxXP4"
      }
    },
    {
      "cell_type": "code",
      "source": [
        "from nltk.stem import PorterStemmer\n",
        "stemmer = PorterStemmer()\n",
        "stemmed_tokens = [stemmer.stem(word) for word in filtered_tokens]\n",
        "print(\"Stemmed Tokens:\", stemmed_tokens)"
      ],
      "metadata": {
        "colab": {
          "base_uri": "https://localhost:8080/"
        },
        "id": "dhSwUxR2wp5R",
        "outputId": "fb399e65-1fe2-4844-c66e-6f10f606bee7"
      },
      "execution_count": null,
      "outputs": [
        {
          "output_type": "stream",
          "name": "stdout",
          "text": [
            "Stemmed Tokens: ['artifici', 'intellig', 'ai', 'rapidli', 'evolv', 'recent', 'year', 'impact', 'variou', 'sector', 'includ', 'healthcar', 'financ', 'transport', 'advanc', 'machin', 'learn', 'algorithm', 'capabl', 'process', 'vast', 'amount', 'data', 'lead', 'accur', 'predict', 'effici', 'decisionmak', 'howev', 'rapid', 'growth', 'also', 'rais', 'concern', 'privaci', 'secur', 'ethic', 'implic', 'ai']\n"
          ]
        }
      ]
    },
    {
      "cell_type": "markdown",
      "source": [
        "**Stemming by using Lancaster Stemming**"
      ],
      "metadata": {
        "id": "lL5xEU-BxifC"
      }
    },
    {
      "cell_type": "code",
      "source": [
        "from nltk.stem import LancasterStemmer\n",
        "lancaster_stemmer = LancasterStemmer()\n",
        "stemmed_tokens = [lancaster_stemmer.stem(word) for word in filtered_tokens]\n",
        "print(\"Stemmed Tokens:\", stemmed_tokens)"
      ],
      "metadata": {
        "colab": {
          "base_uri": "https://localhost:8080/"
        },
        "id": "enwVmAbNwp8w",
        "outputId": "cec76250-6f81-4719-a242-a607529763d1"
      },
      "execution_count": null,
      "outputs": [
        {
          "output_type": "stream",
          "name": "stdout",
          "text": [
            "Stemmed Tokens: ['art', 'intellig', 'ai', 'rapid', 'evolv', 'rec', 'year', 'impact', 'vary', 'sect', 'includ', 'healthc', 'fin', 'transport', 'adv', 'machin', 'learn', 'algorithm', 'cap', 'process', 'vast', 'amount', 'dat', 'lead', 'acc', 'predict', 'efficy', 'decisionmak', 'howev', 'rapid', 'grow', 'also', 'rais', 'concern', 'priv', 'sec', 'eth', 'imply', 'ai']\n"
          ]
        }
      ]
    }
  ],
  "metadata": {
    "colab": {
      "toc_visible": true,
      "provenance": []
    },
    "kernelspec": {
      "display_name": "Python 3",
      "name": "python3"
    }
  },
  "nbformat": 4,
  "nbformat_minor": 0
}