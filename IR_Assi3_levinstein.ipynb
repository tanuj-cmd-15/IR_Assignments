{
  "nbformat": 4,
  "nbformat_minor": 0,
  "metadata": {
    "colab": {
      "provenance": [],
      "authorship_tag": "ABX9TyM3kD++PkQCWsmtDxxoZHYh",
      "include_colab_link": true
    },
    "kernelspec": {
      "name": "python3",
      "display_name": "Python 3"
    },
    "language_info": {
      "name": "python"
    }
  },
  "cells": [
    {
      "cell_type": "markdown",
      "metadata": {
        "id": "view-in-github",
        "colab_type": "text"
      },
      "source": [
        "<a href=\"https://colab.research.google.com/github/tanuj-cmd-15/IR_Assignments/blob/master/IR_Assi3_levinstein.ipynb\" target=\"_parent\"><img src=\"https://colab.research.google.com/assets/colab-badge.svg\" alt=\"Open In Colab\"/></a>"
      ]
    },
    {
      "cell_type": "code",
      "source": [
        "def levenshtein_edit_distance(word1, word2):\n",
        "    m = len(word1)\n",
        "    n = len(word2)\n",
        "\n",
        "    dp = [[0 for _ in range(n+1)] for _ in range(m+1)]\n",
        "\n",
        "    for i in range(m+1):\n",
        "        dp[i][0] = i  # Cost of deletions\n",
        "    for j in range(n+1):\n",
        "        dp[0][j] = j  # Cost of insertions\n",
        "\n",
        "    # Fill the matrix according to the Levenshtein distance algorithm\n",
        "    for i in range(1, m+1):\n",
        "        for j in range(1, n+1):\n",
        "            if word1[i-1] == word2[j-1]:\n",
        "                dp[i][j] = dp[i-1][j-1]  # No operation needed\n",
        "            else:\n",
        "                dp[i][j] = 1 + min(dp[i-1][j],     # Deletion\n",
        "                                   dp[i][j-1],     # Insertion\n",
        "                                   dp[i-1][j-1])   # Substitution\n",
        "    print(\"Matrix representation of edit distances:\")\n",
        "    for row in dp:\n",
        "        print(row)\n",
        "\n",
        "\n",
        "    return dp[m][n]\n",
        "\n",
        "# Example usage\n",
        "word1 = \"OSLO\"\n",
        "word2 = \"SNOW\"\n",
        "distance = levenshtein_edit_distance(word1, word2)\n",
        "print(f\"The Levenshtein distance between '{word1}' and '{word2}' is: {distance}\")"
      ],
      "metadata": {
        "colab": {
          "base_uri": "https://localhost:8080/"
        },
        "id": "JSlDaa644u-q",
        "outputId": "b2012ce0-499b-4412-f570-a7ce3bfbb5a2"
      },
      "execution_count": 1,
      "outputs": [
        {
          "output_type": "stream",
          "name": "stdout",
          "text": [
            "Matrix representation of edit distances:\n",
            "[0, 1, 2, 3, 4]\n",
            "[1, 1, 2, 2, 3]\n",
            "[2, 1, 2, 3, 3]\n",
            "[3, 2, 2, 3, 4]\n",
            "[4, 3, 3, 2, 3]\n",
            "The Levenshtein distance between 'OSLO' and 'SNOW' is: 3\n"
          ]
        }
      ]
    },
    {
      "cell_type": "code",
      "source": [],
      "metadata": {
        "id": "Uaj_Gj715BO2"
      },
      "execution_count": null,
      "outputs": []
    }
  ]
}