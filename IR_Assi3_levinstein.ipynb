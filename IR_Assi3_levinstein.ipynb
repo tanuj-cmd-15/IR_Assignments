{
  "nbformat": 4,
  "nbformat_minor": 0,
  "metadata": {
    "colab": {
      "provenance": [],
      "authorship_tag": "ABX9TyNQjYkmhXAm8F2ifaHZHo7R",
      "include_colab_link": true
    },
    "kernelspec": {
      "name": "python3",
      "display_name": "Python 3"
    },
    "language_info": {
      "name": "python"
    }
  },
  "cells": [
    {
      "cell_type": "markdown",
      "metadata": {
        "id": "view-in-github",
        "colab_type": "text"
      },
      "source": [
        "<a href=\"https://colab.research.google.com/github/tanuj-cmd-15/IR_Assignments/blob/master/IR_Assi3_levinstein.ipynb\" target=\"_parent\"><img src=\"https://colab.research.google.com/assets/colab-badge.svg\" alt=\"Open In Colab\"/></a>"
      ]
    },
    {
      "cell_type": "code",
      "execution_count": 4,
      "metadata": {
        "colab": {
          "base_uri": "https://localhost:8080/"
        },
        "id": "o60HxS67FM-E",
        "outputId": "0c0675f7-b2d4-408b-cab3-9bcf6f729664"
      },
      "outputs": [
        {
          "output_type": "stream",
          "name": "stdout",
          "text": [
            "The Levenshtein distance between 'OSLO' and 'SNOW' is: 3\n"
          ]
        }
      ],
      "source": [
        "def levenshtein_edit_distance(word1, word2):\n",
        "    m = len(word1)\n",
        "    n = len(word2)\n",
        "\n",
        "    dp = [[0 for _ in range(n+1)] for _ in range(m+1)]\n",
        "\n",
        "    for i in range(m+1):\n",
        "        dp[i][0] = i  # Cost of deletions\n",
        "    for j in range(n+1):\n",
        "        dp[0][j] = j  # Cost of insertions\n",
        "\n",
        "    for i in range(1, m+1):\n",
        "        for j in range(1, n+1):\n",
        "            if word1[i-1] == word2[j-1]:\n",
        "                dp[i][j] = dp[i-1][j-1]  # No operation needed\n",
        "            else:\n",
        "                dp[i][j] = 1 + min(dp[i-1][j],     # Deletion\n",
        "                                   dp[i][j-1],     # Insertion\n",
        "                                   dp[i-1][j-1])   # Substitution\n",
        "    # The edit distance is in the bottom-right corner\n",
        "    return dp[m][n]\n",
        "\n",
        "# Example usage\n",
        "word1 = \"OSLO\"\n",
        "word2 = \"SNOW\"\n",
        "distance = levenshtein_edit_distance(word1, word2)\n",
        "print(f\"The Levenshtein distance between '{word1}' and '{word2}' is: {distance}\")"
      ]
    }
  ]
}