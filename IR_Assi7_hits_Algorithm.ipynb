{
  "nbformat": 4,
  "nbformat_minor": 0,
  "metadata": {
    "colab": {
      "provenance": [],
      "authorship_tag": "ABX9TyOEL4F5JNSkhOlSsbQyDKVW",
      "include_colab_link": true
    },
    "kernelspec": {
      "name": "python3",
      "display_name": "Python 3"
    },
    "language_info": {
      "name": "python"
    }
  },
  "cells": [
    {
      "cell_type": "markdown",
      "metadata": {
        "id": "view-in-github",
        "colab_type": "text"
      },
      "source": [
        "<a href=\"https://colab.research.google.com/github/tanuj-cmd-15/IR_Assignments/blob/master/IR_Assi7_hits_Algorithm.ipynb\" target=\"_parent\"><img src=\"https://colab.research.google.com/assets/colab-badge.svg\" alt=\"Open In Colab\"/></a>"
      ]
    },
    {
      "cell_type": "code",
      "source": [
        "import numpy as np\n",
        "\n",
        "def hits_algorithm(adj_matrix, node_labels, max_iter=100, tol=1e-6):\n",
        "\n",
        "    num_nodes = adj_matrix.shape[0]\n",
        "    hub_scores = np.ones(num_nodes)\n",
        "    authority_scores = np.zeros(num_nodes)\n",
        "\n",
        "    # Iterative updates\n",
        "    for _ in range(max_iter):\n",
        "        # for X authority score\n",
        "        new_authority_scores = np.dot(adj_matrix.T, hub_scores)\n",
        "\n",
        "        new_authority_scores /= np.linalg.norm(new_authority_scores, ord=2)\n",
        "\n",
        "        # for Y hub score\n",
        "        new_hub_scores = np.dot(adj_matrix, new_authority_scores)\n",
        "\n",
        "        new_hub_scores /= np.linalg.norm(new_hub_scores, ord=2)\n",
        "\n",
        "        if (\n",
        "            np.linalg.norm(new_authority_scores - authority_scores, ord=2) < tol and\n",
        "            np.linalg.norm(new_hub_scores - hub_scores, ord=2) < tol\n",
        "        ):\n",
        "            break\n",
        "\n",
        "        authority_scores = new_authority_scores\n",
        "        hub_scores = new_hub_scores\n",
        "\n",
        "    return authority_scores, hub_scores\n",
        "\n",
        "if __name__ == \"__main__\":\n",
        "\n",
        "    adj_matrix = np.array([\n",
        "         [0, 1, 1, 0, 1],\n",
        "        [0, 0, 0, 0, 0],\n",
        "        [0, 0, 0, 0, 0],\n",
        "        [0, 1, 1, 0, 0],\n",
        "        [0, 0, 0, 0, 0]\n",
        "    ])\n",
        "\n",
        "    node_labels = ['A', 'B', 'C', 'D', 'E']\n",
        "\n",
        "    authority_scores, hub_scores = hits_algorithm(adj_matrix, node_labels)\n",
        "\n",
        "    print(\"Authority Scores:\", dict(zip(node_labels, authority_scores)))\n",
        "    print(\"Hub Scores:\", dict(zip(node_labels, hub_scores)))\n",
        "\n",
        "    best_authority = np.argmax(authority_scores)\n",
        "    best_hub = np.argmax(hub_scores)\n",
        "\n",
        "    # print(f\"Node with highest authority score: {node_labels[best_authority]} (Score: {authority_scores[best_authority]:.4f})\")\n",
        "    # print(f\"Node with highest hub score: {node_labels[best_hub]} (Score: {hub_scores[best_hub]:.4f})\")\n"
      ],
      "metadata": {
        "colab": {
          "base_uri": "https://localhost:8080/"
        },
        "id": "JoRwcOndDye_",
        "outputId": "6db68e12-9723-4138-c721-52d7928d9882"
      },
      "execution_count": 5,
      "outputs": [
        {
          "output_type": "stream",
          "name": "stdout",
          "text": [
            "Authority Scores: {'A': 0.0, 'B': 0.6571923814033303, 'C': 0.6571923814033303, 'D': 0.0, 'E': 0.3690478934377478}\n",
            "Hub Scores: {'A': 0.7882053782752423, 'B': 0.0, 'C': 0.0, 'D': 0.6154122859173207, 'E': 0.0}\n"
          ]
        }
      ]
    }
  ]
}