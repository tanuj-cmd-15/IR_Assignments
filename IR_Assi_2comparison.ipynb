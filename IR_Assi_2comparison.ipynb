{
  "nbformat": 4,
  "nbformat_minor": 0,
  "metadata": {
    "colab": {
      "provenance": [],
      "authorship_tag": "ABX9TyP9jj85fuFHd4a8i77n2gfv",
      "include_colab_link": true
    },
    "kernelspec": {
      "name": "python3",
      "display_name": "Python 3"
    },
    "language_info": {
      "name": "python"
    }
  },
  "cells": [
    {
      "cell_type": "markdown",
      "metadata": {
        "id": "view-in-github",
        "colab_type": "text"
      },
      "source": [
        "<a href=\"https://colab.research.google.com/github/tanuj-cmd-15/IR_Assignments/blob/master/IR_Assi_2comparison.ipynb\" target=\"_parent\"><img src=\"https://colab.research.google.com/assets/colab-badge.svg\" alt=\"Open In Colab\"/></a>"
      ]
    },
    {
      "cell_type": "code",
      "source": [
        "import nltk\n",
        "import re\n",
        "from nltk.corpus import stopwords\n",
        "from nltk.tokenize import word_tokenize\n",
        "from nltk.stem import PorterStemmer\n",
        "\n",
        "# Download necessary NLTK resources\n",
        "# nltk.download('punkt')\n",
        "# nltk.download('stopwords')\n"
      ],
      "metadata": {
        "id": "orTGrlDBBAeA"
      },
      "execution_count": 7,
      "outputs": []
    },
    {
      "cell_type": "code",
      "source": [
        "\n",
        "class LovinsStemmer:\n",
        "    def stem(self, word):\n",
        "        suffixes = ['ing', 'ly', 'ed', 'ious', 'ies', 'ive', 'es', 's', 'ment']\n",
        "        for suffix in suffixes:\n",
        "            if word.endswith(suffix):\n",
        "                return word[:len(word)-len(suffix)]\n",
        "        return word\n",
        "\n",
        "text = (\"The sun was setting behind the mountains, casting a golden glow over the valley. \"\n",
        "        \"Birds chirped softly as the evening breeze rustled through the trees, and the scent of pine filled the air.\")\n"
      ],
      "metadata": {
        "id": "AzOTGPidBi6i"
      },
      "execution_count": 8,
      "outputs": []
    },
    {
      "cell_type": "code",
      "source": [
        "# Normalize the text\n",
        "text = text.lower()\n",
        "text = re.sub(r'[^a-z0-9\\s]', '', text)\n",
        "\n",
        "tokens = word_tokenize(text)\n",
        "\n",
        "stop_words = set(stopwords.words('english'))\n",
        "filtered_tokens = [word for word in tokens if word not in stop_words]\n",
        "\n",
        "porter_stemmer = PorterStemmer()\n",
        "lovins_stemmer = LovinsStemmer()\n",
        "\n",
        "porter_stemmed_words = [porter_stemmer.stem(token) for token in filtered_tokens]\n",
        "lovins_stemmed_words = [lovins_stemmer.stem(token) for token in filtered_tokens]\n",
        "\n",
        "print(\"{:<15} {:<15} {:<15}\".format(\"Original\", \"Porter Stemmer\", \"Lovins Stemmer\"))\n",
        "print(\"-\" * 45)\n",
        "for i in range(len(filtered_tokens)):\n",
        "    print(\"{:<15} {:<15} {:<15}\".format(filtered_tokens[i], porter_stemmed_words[i], lovins_stemmed_words[i]))"
      ],
      "metadata": {
        "colab": {
          "base_uri": "https://localhost:8080/"
        },
        "id": "V8xu66LDBmNJ",
        "outputId": "3d54538d-bd1f-4cf7-cd2a-bbae23821b99"
      },
      "execution_count": 9,
      "outputs": [
        {
          "output_type": "stream",
          "name": "stdout",
          "text": [
            "Original        Porter Stemmer  Lovins Stemmer \n",
            "---------------------------------------------\n",
            "sun             sun             sun            \n",
            "setting         set             sett           \n",
            "behind          behind          behind         \n",
            "mountains       mountain        mountain       \n",
            "casting         cast            cast           \n",
            "golden          golden          golden         \n",
            "glow            glow            glow           \n",
            "valley          valley          valley         \n",
            "birds           bird            bird           \n",
            "chirped         chirp           chirp          \n",
            "softly          softli          soft           \n",
            "evening         even            even           \n",
            "breeze          breez           breeze         \n",
            "rustled         rustl           rustl          \n",
            "trees           tree            tre            \n",
            "scent           scent           scent          \n",
            "pine            pine            pine           \n",
            "filled          fill            fill           \n",
            "air             air             air            \n"
          ]
        }
      ]
    }
  ]
}