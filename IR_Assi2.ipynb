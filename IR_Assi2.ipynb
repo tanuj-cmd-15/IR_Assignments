{
  "cells": [
    {
      "cell_type": "markdown",
      "source": [
        "***IR (ASSIGNMENT-1)***"
      ],
      "metadata": {
        "id": "BjhOLJrrw4eB"
      }
    },
    {
      "cell_type": "code",
      "source": [
        "pip install nltk"
      ],
      "metadata": {
        "colab": {
          "base_uri": "https://localhost:8080/"
        },
        "id": "_LaoVvd7w6vB",
        "outputId": "88c788ff-111b-4dd0-81ca-c6c5661bdf19"
      },
      "execution_count": 1,
      "outputs": [
        {
          "output_type": "stream",
          "name": "stdout",
          "text": [
            "Requirement already satisfied: nltk in /usr/local/lib/python3.10/dist-packages (3.8.1)\n",
            "Requirement already satisfied: click in /usr/local/lib/python3.10/dist-packages (from nltk) (8.1.7)\n",
            "Requirement already satisfied: joblib in /usr/local/lib/python3.10/dist-packages (from nltk) (1.4.2)\n",
            "Requirement already satisfied: regex>=2021.8.3 in /usr/local/lib/python3.10/dist-packages (from nltk) (2024.9.11)\n",
            "Requirement already satisfied: tqdm in /usr/local/lib/python3.10/dist-packages (from nltk) (4.66.5)\n"
          ]
        }
      ]
    },
    {
      "cell_type": "code",
      "source": [
        "import nltk\n",
        "import re\n",
        "from nltk.corpus import stopwords\n",
        "from nltk.tokenize import word_tokenize\n",
        "\n",
        "nltk.download('punkt')\n",
        "nltk.download('stopwords')"
      ],
      "metadata": {
        "colab": {
          "base_uri": "https://localhost:8080/"
        },
        "id": "Hmb0k7AVwSjZ",
        "outputId": "20685158-b17c-466f-9cde-85fcead0e868"
      },
      "execution_count": 2,
      "outputs": [
        {
          "output_type": "stream",
          "name": "stderr",
          "text": [
            "[nltk_data] Downloading package punkt to /root/nltk_data...\n",
            "[nltk_data]   Unzipping tokenizers/punkt.zip.\n",
            "[nltk_data] Downloading package stopwords to /root/nltk_data...\n",
            "[nltk_data]   Unzipping corpora/stopwords.zip.\n"
          ]
        },
        {
          "output_type": "execute_result",
          "data": {
            "text/plain": [
              "True"
            ]
          },
          "metadata": {},
          "execution_count": 2
        }
      ]
    },
    {
      "cell_type": "code",
      "source": [
        "text = (\"The sun was setting behind the mountains, casting a golden glow over the valley. Birds chirped softly as the evening breeze rustled through the trees, and the scent of pine filled the air. It was a peaceful moment, the kind that made you pause and appreciate the beauty of nature.\")"
      ],
      "metadata": {
        "id": "K015klhHwYOB"
      },
      "execution_count": 3,
      "outputs": []
    },
    {
      "cell_type": "markdown",
      "source": [
        "**Normalize the text**"
      ],
      "metadata": {
        "id": "m694xvcExH-p"
      }
    },
    {
      "cell_type": "code",
      "source": [
        "text = text.lower()  # Convert to lowercase\n",
        "text = re.sub(r'[^a-z0-9\\s]', '', text)  # Remove punctuation\n",
        "print(\"Normalized Text:\", text)\n"
      ],
      "metadata": {
        "colab": {
          "base_uri": "https://localhost:8080/"
        },
        "id": "c_FB1843whTp",
        "outputId": "bd37459c-49a6-4e5c-cba3-d9db34c64a47"
      },
      "execution_count": 4,
      "outputs": [
        {
          "output_type": "stream",
          "name": "stdout",
          "text": [
            "Normalized Text: the sun was setting behind the mountains casting a golden glow over the valley birds chirped softly as the evening breeze rustled through the trees and the scent of pine filled the air it was a peaceful moment the kind that made you pause and appreciate the beauty of nature\n"
          ]
        }
      ]
    },
    {
      "cell_type": "markdown",
      "source": [
        "**Tokenize the text**"
      ],
      "metadata": {
        "id": "_30X8YYMxN95"
      }
    },
    {
      "cell_type": "code",
      "source": [
        "tokens = word_tokenize(text)\n",
        "print(\"Tokens:\", tokens)"
      ],
      "metadata": {
        "colab": {
          "base_uri": "https://localhost:8080/"
        },
        "id": "pVwY1_bnwh8a",
        "outputId": "0f767a12-81b8-49d0-ed85-d52c4c195b6c"
      },
      "execution_count": 5,
      "outputs": [
        {
          "output_type": "stream",
          "name": "stdout",
          "text": [
            "Tokens: ['the', 'sun', 'was', 'setting', 'behind', 'the', 'mountains', 'casting', 'a', 'golden', 'glow', 'over', 'the', 'valley', 'birds', 'chirped', 'softly', 'as', 'the', 'evening', 'breeze', 'rustled', 'through', 'the', 'trees', 'and', 'the', 'scent', 'of', 'pine', 'filled', 'the', 'air', 'it', 'was', 'a', 'peaceful', 'moment', 'the', 'kind', 'that', 'made', 'you', 'pause', 'and', 'appreciate', 'the', 'beauty', 'of', 'nature']\n"
          ]
        }
      ]
    },
    {
      "cell_type": "markdown",
      "source": [
        "**Remove stopwords**"
      ],
      "metadata": {
        "id": "DiAF89I0xSvR"
      }
    },
    {
      "cell_type": "code",
      "source": [
        "stop_words = set(stopwords.words('english'))\n",
        "filtered_tokens = [word for word in tokens if word not in stop_words]\n",
        "print(\"Filtered Tokens:\", filtered_tokens)\n"
      ],
      "metadata": {
        "colab": {
          "base_uri": "https://localhost:8080/"
        },
        "id": "WUmOZ_OPwmrp",
        "outputId": "b81caadc-b768-4208-e4db-a2beddb1941b"
      },
      "execution_count": 6,
      "outputs": [
        {
          "output_type": "stream",
          "name": "stdout",
          "text": [
            "Filtered Tokens: ['sun', 'setting', 'behind', 'mountains', 'casting', 'golden', 'glow', 'valley', 'birds', 'chirped', 'softly', 'evening', 'breeze', 'rustled', 'trees', 'scent', 'pine', 'filled', 'air', 'peaceful', 'moment', 'kind', 'made', 'pause', 'appreciate', 'beauty', 'nature']\n"
          ]
        }
      ]
    },
    {
      "cell_type": "markdown",
      "source": [
        "**Stemming by using PorterStemmer**"
      ],
      "metadata": {
        "id": "pYjAY0RuxXP4"
      }
    },
    {
      "cell_type": "code",
      "source": [
        "from nltk.stem import PorterStemmer\n",
        "stemmer = PorterStemmer()\n",
        "stemmed_tokens = [stemmer.stem(word) for word in filtered_tokens]\n",
        "print(\"Stemmed Tokens:\", stemmed_tokens)"
      ],
      "metadata": {
        "colab": {
          "base_uri": "https://localhost:8080/"
        },
        "id": "dhSwUxR2wp5R",
        "outputId": "f108d234-c081-46b6-c191-d64e430c2b49"
      },
      "execution_count": 7,
      "outputs": [
        {
          "output_type": "stream",
          "name": "stdout",
          "text": [
            "Stemmed Tokens: ['sun', 'set', 'behind', 'mountain', 'cast', 'golden', 'glow', 'valley', 'bird', 'chirp', 'softli', 'even', 'breez', 'rustl', 'tree', 'scent', 'pine', 'fill', 'air', 'peac', 'moment', 'kind', 'made', 'paus', 'appreci', 'beauti', 'natur']\n"
          ]
        }
      ]
    },
    {
      "cell_type": "markdown",
      "source": [
        "**Stemming by using Lancaster Stemming**"
      ],
      "metadata": {
        "id": "lL5xEU-BxifC"
      }
    },
    {
      "cell_type": "code",
      "source": [
        "from nltk.stem import LancasterStemmer\n",
        "lancaster_stemmer = LancasterStemmer()\n",
        "stemmed_tokens = [lancaster_stemmer.stem(word) for word in filtered_tokens]\n",
        "print(\"Stemmed Tokens:\", stemmed_tokens)"
      ],
      "metadata": {
        "colab": {
          "base_uri": "https://localhost:8080/"
        },
        "id": "enwVmAbNwp8w",
        "outputId": "8476f4fb-5e9e-45e4-a36d-6335a7c96480"
      },
      "execution_count": 8,
      "outputs": [
        {
          "output_type": "stream",
          "name": "stdout",
          "text": [
            "Stemmed Tokens: ['sun', 'set', 'behind', 'mountain', 'cast', 'gold', 'glow', 'valley', 'bird', 'chirp', 'soft', 'ev', 'breez', 'rustl', 'tre', 'scent', 'pin', 'fil', 'air', 'peac', 'mom', 'kind', 'mad', 'paus', 'apprecy', 'beauty', 'nat']\n"
          ]
        }
      ]
    }
  ],
  "metadata": {
    "colab": {
      "toc_visible": true,
      "provenance": []
    },
    "kernelspec": {
      "display_name": "Python 3",
      "name": "python3"
    }
  },
  "nbformat": 4,
  "nbformat_minor": 0
}